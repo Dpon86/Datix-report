import PySimpleGUI as sg
import pandas as pd
import os 
import sys
import xlwings as xw
import pandas as pd
import matplotlib
import seaborn as sns
from docxtpl import DocxTemplate, InlineImage
from docx.shared import Cm, Inches, Mm, Emu
from pathlib import Path
from datetime import date, datetime, timedelta
from matplotlib import pyplot as plt
from matplotlib import dates as date_plot
from datetime import datetime
from time import strptime

layout = [
    [sg.Text('Please fill out the following fields:')],
    [sg.Input(key='Start Date', size=(15,1)), sg.CalendarButton('Start Date', close_when_date_chosen=True, target='Start Date', location=[555,455], no_titlebar=False , format='%Y-%m-%d')],
    [sg.Input(key='End Date', size=(15,1)), sg.CalendarButton('End Date', close_when_date_chosen=True, target='End Date', location=[555,455], no_titlebar=False, format='%Y-%m-%d' )],
    [sg.Submit(), sg.Exit()]
]

window = sg.Window('Simple data entry form', layout)

while True:
    event, values = window.read()
    if event == sg.WIN_CLOSED or event == 'Exit':
        break
    if event == 'Submit':
        Start = values['Start Date']
        End = values['End Date']
        Start = pd.to_datetime(Start, infer_datetime_format=True)
        Start = Start.strftime('%b %Y')
        End = pd.to_datetime(End, infer_datetime_format=True)
        End = End.strftime('%b %Y')
        sg.popup('Stand by for file Sir')
        break
window.close()

os.chdir(sys.path[0])
current_dir = Path(__file__).parent if "__file__" in locals() else Path.cwd()
output_file = current_dir / "Datix.xlsx"
output_file

d_parser = lambda x: datetime.strptime(x, '%d/%m/%Y')
df = pd.read_csv('DatixWebReport.csv', parse_dates=['Date Received', 'Incident date'], date_parser=d_parser)

df.set_index('Incident date', inplace=True)
#datetime.strptime(df.index,'%B %Y')

df_1 = pd.get_dummies(df['Category'])
df_1 = df_1['2021-01-01': End].resample('MS').sum()

#Size of graph
plt.figure(figsize=(10,5))
#Style of graph
plt.style.use(['bmh'])
#Title
plt.title('Total Count of Controlled Drug Datixs',fontsize=15)
#Labels for the axis
plt.xlabel('Date')
plt.ylabel('Count of incidents')
#legend format bbox anchor will put it to a specific place, facecolour will set the background colour 
plt.legend(loc='lower left', bbox_to_anchor=(1, 0.5),facecolor='none', fontsize=8, edgecolor='black', )
plt.plot(df_1['Controlled Drugs'])
#Setting the date format
plt.gcf().autofmt_xdate()
date_format = date_plot.DateFormatter('%b %Y')
plt.gca().xaxis.set_major_formatter(date_format)
plt.savefig(f"Total Count of Controlled Drug Datixs.png", bbox_inches='tight')

List1=['morphine', 'Morphine', 'Midazolam', 'midazolam', 'Ketamine', 'ketamine', 'diazepam', 'diazemuls', 'Diazepam']
CDamount = {}
for word in List1:
    CDamount[word] = df['Description'].str.contains(word).sum()
CDamount = pd.DataFrame(data=CDamount, index=['Count'])

CDamount = CDamount.transpose()

Ad=df_1['Administration or Supply of a Medicine']
Am=df_1['Ampoule Breakage in Pouch']
cd=df_1['Controlled Drugs']
Ip=df_1['Incorrect Paperwork / Tagging']
Ma=df_1['Medication Advice (by EOC or Crew)']
Med=df_1['Medicines Management']
Ps=df_1['Pouches Left at Scene']


#Size of graph
plt.figure(figsize=(5,2.5))
#Style of graph
plt.style.use(['bmh'])
#Title
plt.title('Category Count of Datixs',fontsize=8)
#Labels for the axis
plt.xlabel('Date')
plt.ylabel('Count of incidents')
#Size of axis font
plt.tick_params(axis='both', labelsize=10)
#plotting the graph
plt.plot(Ad, label='Administration or Supply of a Medicine ')
plt.plot(Am, label='Ampoule Breakage in Pouch ')
plt.plot(Ip, label='Incorrect Paperwork / Tagging ')
plt.plot(cd, label='Controlled Drugs ')
plt.plot(Ma, label='Medication Advice (by EOC or Crew) ')
plt.plot(Med, label='Medicines Management ')
plt.plot(Ps, label='Pouches Left at Scene ')
#legend format bbox anchor will put it to a specific place, facecolour will set the background colour 
plt.legend(loc='lower left', bbox_to_anchor=(1, 0.5),facecolor='none', fontsize=5, edgecolor='black')
#Setting the date format
plt.gcf().autofmt_xdate()
date_format = date_plot.DateFormatter('%b %Y')
plt.gca().xaxis.set_major_formatter(date_format)
plt.savefig(f"Category Count of Datixs.png", bbox_inches='tight')

#Getting the subcategory of CDs
CDyes = ['Controlled Drugs']
CDfilt = df['Category'].isin(CDyes)
CDsc = df.loc[CDfilt, ['Sub category']]
CDscd = pd.get_dummies(CDsc['Sub category'])
CDscd = CDscd['2021-01-01': End].resample('MS').sum()
CDscd

#Filtering the obove out
As1=CDscd['Accidental Spillage / Wastage of Drug']
Bcd=CDscd['Broken Controlled Drug']
Code=CDscd["Codes Shared Inappropriately and Not in Accordance With SOP's"]
CDhome=CDscd['Controlled Drug Taken Home in Error']
CDbag=CDscd['Drugs Bag Left at Scene']
Inap=CDscd['Inappropriate Single Signature For Controlled Drugs']
Disposal=CDscd['Incorrect Disposal of Drug']
Keys=CDscd['Medicine Keys']
Missing=CDscd['Missing But Not Perceived Stolen']
Noncom=CDscd["Non Compliance to SOP's"]
Bar=CDscd['Omnicell - Emergency Barcode Used']
Omnicellerr=CDscd['Omnicell Error']
Theft=CDscd['Theft of Controlled Drug']

#CD subcategory
#Size of graph
plt.figure(figsize=(10,5))
#Style of graph
plt.style.use(['bmh'])
#Title
plt.title('Controlled Drug Sub Catagory Count of Datixs',fontsize=15)
#Labels for the axis
plt.xlabel('Date')
plt.ylabel('Count of incidents')
#Size of axis font
plt.tick_params(axis='both', labelsize=10)
#plotting the graph
plt.plot(Bcd, label='Broken Controlled Drug')
plt.plot(CDhome, label='Controlled Drug Taken Home in Error')
plt.plot(As1, label='Accidental Spillage / Wastage of Drug')
plt.plot(Missing, label='Missing But Not Perceived Stolen')
plt.plot(Code, label="Codes Shared Inappropriately and Not in Accordance With SOP's")
plt.plot(Noncom, label="Non Compliance to SOP's")
plt.plot(CDbag, label='Drugs Bag Left at Scene')
plt.plot(Inap, label='Inappropriate Single Signature For Controlled Drugs')
plt.plot(Disposal, label='Incorrect Disposal of Drug')
plt.plot(Keys, label='Medicine Keys')
plt.plot(Bar, label='Omnicell - Emergency Barcode Used')
plt.plot(Omnicellerr, label='Omnicell Error')
plt.plot(Theft, label='Theft of Controlled Drug')
#legend format bbox anchor will put it to a specific place, facecolour will set the background colour 
plt.legend(loc='lower left', bbox_to_anchor=(1, 0.5),facecolor='none', fontsize=8, edgecolor='black')
#Setting the date format
plt.gcf().autofmt_xdate()
date_format = date_plot.DateFormatter('%b %Y')
plt.gca().xaxis.set_major_formatter(date_format)
plt.savefig(f"Controlled Drug Sub Catagory Count of Datix.png", bbox_inches='tight')



#getting subcategory in the category
sub = df.groupby(['Category', 'Sub category']).size()

#Gets all the harm and SI
harmyes = ['Low (Minimal harm - injured party required extra observation or minor treatment)','Moderate (Short term harm - injured party required further treatment or procedure)','Severe (Injured party sustained permanent or long term harm)']
harmfilt = df['Grade of harm'].isin(harmyes)
harmdf = df.loc[harmfilt, ['Ref', 'Description', 'Date Received', 'Category', 'Sub category', 'Action taken', 'Action taken (Investigation)', 'Investigation Level', 'Lessons learned']]
harmdf = harmdf[Start:End]
SIlist = ['Level 1 - No/Low Harm Investigation','Level 3 - Internal Route Cause Analysis','Level 4 - Serious Incident','Level 2 - Moderate with Duty of Candour']
SIfilt = df['Investigation Level'].isin(SIlist)
SIlevel = df.loc[SIfilt, ['Ref', 'Description', 'Date Received', 'Category', 'Sub category', 'Action taken', 'Action taken (Investigation)', 'Investigation Level', 'Lessons learned']]
SIlevel = SIlevel[Start:End]

#harm categories
harmbar = pd.get_dummies(harmdf['Category']).sum()
harmbar = pd.DataFrame(harmbar)

print(harmbar)
plt.bar(harmbar.index, harmbar[0])
plt.xlabel('Category')
plt.ylabel('Count of incidents')
plt.title('Harm Categories')
plt.xticks(rotation=75)
plt.tick_params(axis='both', labelsize=10)
plt.savefig(f"Harmbarchart.png", bbox_inches='tight')


#pie chart for Harm
df_h = pd.get_dummies(df['Grade of harm'])
df_h = df_h.sum()
labelsdf = pd.DataFrame(df_h)
colour_list=['blue', 'orange', 'green', 'red']
plt.pie(df_h, shadow=True, autopct='%1.1f%%', textprops={'fontsize': 10}, labels=None, colors=colour_list, explode=[0,0.1,0,0.2], wedgeprops={"edgecolor":"k",'linewidth': 1}, startangle=30)
plt.legend(labels=labelsdf.index, loc="center left",
          bbox_to_anchor=(1, 0, 0.5, 1))
plt.style.use('fivethirtyeight')
plt.tight_layout()
plt.savefig(f"Harmpiechart.png", bbox_inches='tight')

#This is to find all items with the List in the descriptions

List1=['orphine', 'idazolam', 'etamine', 'iazemuls', 'iazepam', 'odeine']
CDoutput = {}
for word in List1:
    CDoutput[word] = df['Description'].str.contains(word).sum()

CDoutput = pd.DataFrame(data=CDoutput, index=['Count'])
CDoutput = CDoutput.transpose()
CDoutput = CDoutput[Start:End]
CDoutput['Index'] = '1','2','3','4','5', '6'
CDoutput.set_index('Index', inplace=True)
CDoutput['Drug'] = 'Morphine', 'Midazolam', 'Ketamine', 'Diazemuls', 'Diazepam', 'Codeine'


#This is to make the pie chart and save it
import matplotlib.pyplot as plt

plt.pie(CDoutput['Count'], labels=CDoutput['Drug'], shadow=True, autopct='%1.1f%%', wedgeprops=dict(width=0.5), textprops={'fontsize': 10})
plt.style.use('fivethirtyeight')
plt.tight_layout()
plt.title('Controlled Drug datix')
plt.savefig(f"Controlled Drug datix.png", bbox_inches='tight')

#This writes it to the file
with pd.ExcelWriter(output_file, engine="xlsxwriter") as writer:
    
    df.to_excel(writer, sheet_name="Raw Data", index=False)
    harmdf.to_excel(writer, sheet_name="Harm")
    SIlevel.to_excel(writer, sheet_name="SI")

df_sc = pd.get_dummies(df['Sub category'])
medna = df_sc['Medicine not Available for Patient']
oxy = df_sc['Medical Gases (O2)']
oxy2 = df_sc['Medical Gases (Entonox)']
oxy3 = df_sc['Medical Gases O2 Left / Found in Insecure Location']
oxyt = oxy+oxy2+oxy3
oxyt
Temp = df_sc['Temperature Control Issues']
dft = df['ID']
doc = DocxTemplate('Datix report template.docx')

#Graph of all incidents
#Size of graph
plt.figure(figsize=(10,5))
#Style of graph
plt.style.use(['bmh'])
#Title
plt.title('Count of all Medicine Datix',fontsize=15)
#Labels for the axis
plt.xlabel('Date')
plt.ylabel('Count of incidents')
#Size of axis font
plt.tick_params(axis='both', labelsize=10)
#plotting the graph
plt.plot(df['2021-01-01':End].resample('MS').size())
#legend format bbox anchor will put it to a specific place, facecolour will set the background colour 
#plt.legend(loc='lower left', bbox_to_anchor=(1, 0.5),facecolor='none', fontsize=8, edgecolor='black')
#Setting the date format
plt.gcf().autofmt_xdate()
date_format = date_plot.DateFormatter('%b %Y')
plt.gca().xaxis.set_major_formatter(date_format)
plt.savefig(f"Count of all Medicine Datix.png", bbox_inches='tight')


context = {
    'Catagorygraph':InlineImage(doc, 'Category Count of Datixs.png'), 
    'Allincidentsgraph':InlineImage(doc, 'Count of all Medicine Datix.png'),
    'Harmcatagoriesbargraph':InlineImage(doc, 'Harmbarchart.png'),
    'Gradeofharmpiegraph':InlineImage(doc, 'Harmpiechart.png'),
    'Controlleddrugcategorygraph':InlineImage(doc, 'Controlled Drug Sub Catagory Count of Datix.png'),
    'CDdrugs':InlineImage(doc, 'Controlled Drug datix.png'),
    'AllCDgraph':InlineImage(doc, 'Total Count of Controlled Drug Datixs.png'),
    'ControlledDrugs':cd[Start:End].sum(),
    'Administration':Ad[Start:End].sum(),
    'Total':dft[Start:End].count(),
    'IncorrectPaperwork':Ip[Start:End].sum(),
    'PouchesLeft':Ps[Start:End].sum(),
    'MedicinesManagement':Med[Start:End].sum(),
    'Ampoule':Am[Start:End].sum(),
    'O2':oxyt[Start:End].sum(),
    'Temperature':Temp[Start:End].sum(),
    'NotAvailable':medna[Start:End].sum(),
    'EndDate':End,
    'StartDate':Start,
}

def main():    
    #This creates the word document
    output_name = f'Datix Report {End}.docx'
    doc.render(context)
    doc.save(output_name)

if __name__ == "__main__":
    xw.Book("Datix.xlsm").set_mock_caller()
    main()


