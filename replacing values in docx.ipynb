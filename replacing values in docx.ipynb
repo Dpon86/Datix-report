{
 "cells": [
  {
   "cell_type": "code",
   "execution_count": 5,
   "metadata": {},
   "outputs": [],
   "source": [
    "from logging import PlaceHolder\n",
    "import PySimpleGUI as sg\n",
    "import pandas as pd\n",
    "import os \n",
    "import sys\n",
    "import xlwings as xw\n",
    "import pandas as pd\n",
    "import matplotlib\n",
    "import seaborn as sns\n",
    "import numpy as np\n",
    "import re\n",
    "from docxtpl import DocxTemplate, InlineImage\n",
    "from docx.shared import Cm, Inches, Mm, Emu\n",
    "from pathlib import Path\n",
    "from datetime import date, datetime, timedelta\n",
    "from matplotlib import pyplot as plt\n",
    "from matplotlib import dates as date_plot\n",
    "from datetime import datetime\n",
    "from time import strptime\n",
    "from docx import Document\n"
   ]
  },
  {
   "cell_type": "code",
   "execution_count": 6,
   "metadata": {},
   "outputs": [],
   "source": [
    "os.chdir(sys.path[0])\n",
    "doc= DocxTemplate('Sub Cat report template.docx')"
   ]
  },
  {
   "cell_type": "code",
   "execution_count": 7,
   "metadata": {},
   "outputs": [
    {
     "name": "stdout",
     "output_type": "stream",
     "text": [
      "'1placeholder', '2placeholder', '3placeholder', '4placeholder', '5placeholder', '6placeholder', '7placeholder', '8placeholder', '9placeholder', '10placeholder', '11placeholder', '12placeholder', '13placeholder', '14placeholder', '15placeholder', '16placeholder', '17placeholder', '18placeholder', '19placeholder', '20placeholder', '21placeholder', '22placeholder', '23placeholder', '24placeholder', '25placeholder', '26placeholder', '27placeholder', '28placeholder', '29placeholder', '30placeholder', '31placeholder', '32placeholder', '33placeholder', '34placeholder', '35placeholder', '36placeholder', '37placeholder', '38placeholder', '39placeholder', '40placeholder', '41placeholder', '42placeholder', '43placeholder', '44placeholder', '45placeholder', '46placeholder', '47placeholder', '48placeholder', '49placeholder', '50placeholder', '51placeholder', '52placeholder', '53placeholder', '54placeholder', '55placeholder', '56placeholder', '57placeholder', '58placeholder', '59placeholder', '60placeholder', '61placeholder', '62placeholder', '63placeholder', '64placeholder', '65placeholder', '66placeholder', '67placeholder', '68placeholder', '69placeholder', '70placeholder', '71placeholder', '72placeholder', '73placeholder', '74placeholder', '75placeholder', '76placeholder', '77placeholder', '78placeholder', '79placeholder', '80placeholder', '81placeholder', '82placeholder', '83placeholder', '84placeholder'\n"
     ]
    }
   ],
   "source": [
    "document = Document('Sub Cat report template.docx')\n",
    "\n",
    "for paragraph in document.paragraphs:\n",
    "    if \"'\" in paragraph.text:\n",
    "        print(paragraph.text)\n",
    "        paragraph.text = '{'\n",
    "            "
   ]
  },
  {
   "cell_type": "code",
   "execution_count": 8,
   "metadata": {},
   "outputs": [],
   "source": [
    "#doc.render(context)\n",
    "doc.save('Sub Cat report template.docx')"
   ]
  }
 ],
 "metadata": {
  "kernelspec": {
   "display_name": "Python 3.9.6 64-bit",
   "language": "python",
   "name": "python3"
  },
  "language_info": {
   "codemirror_mode": {
    "name": "ipython",
    "version": 3
   },
   "file_extension": ".py",
   "mimetype": "text/x-python",
   "name": "python",
   "nbconvert_exporter": "python",
   "pygments_lexer": "ipython3",
   "version": "3.9.6"
  },
  "orig_nbformat": 4,
  "vscode": {
   "interpreter": {
    "hash": "cf92aa13fedf815d5c8dd192b8d835913fde3e8bc926b2a0ad6cc74ef2ba3ca2"
   }
  }
 },
 "nbformat": 4,
 "nbformat_minor": 2
}
